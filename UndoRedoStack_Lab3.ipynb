{
  "nbformat": 4,
  "nbformat_minor": 0,
  "metadata": {
    "colab": {
      "provenance": []
    },
    "kernelspec": {
      "name": "python3",
      "display_name": "Python 3"
    },
    "language_info": {
      "name": "python"
    }
  },
  "cells": [
    {
      "cell_type": "code",
      "execution_count": 19,
      "metadata": {
        "colab": {
          "base_uri": "https://localhost:8080/"
        },
        "id": "vMdeJnsKu6bB",
        "outputId": "70818a8e-a283-4c4d-e31e-71446043b049"
      },
      "outputs": [
        {
          "output_type": "stream",
          "name": "stdout",
          "text": [
            "Action performed: Advanced\n",
            "Action performed: Data\n",
            "Action performed: Structure\n",
            "Undo Stack: ['Advanced', 'Data', 'Structure']\n",
            "Redo Stack: []\n",
            "Action undone: Structure\n",
            "Action undone: Data\n",
            "Undo Stack: ['Advanced']\n",
            "Redo Stack: ['Structure', 'Data']\n",
            "Action redone: Data\n",
            "Undo Stack: ['Advanced', 'Data']\n",
            "Redo Stack: ['Structure']\n"
          ]
        }
      ],
      "source": [
        "class UndoRedoSystem:\n",
        "    def __init__(self):\n",
        "        self.undo_stack = []\n",
        "        self.redo_stack = []\n",
        "\n",
        "    def push(self, action):\n",
        "        \"\"\"Perform a new action\"\"\"\n",
        "        self.undo_stack.append(action)\n",
        "        self.redo_stack.clear()\n",
        "        print(f\"Action performed: {action}\")\n",
        "\n",
        "    def undo(self):\n",
        "        \"\"\"Undo last action\"\"\"\n",
        "        if self.undo_stack:\n",
        "            action = self.undo_stack.pop()\n",
        "            self.redo_stack.append(action)\n",
        "            print(f\"Action undone: {action}\")\n",
        "        else:\n",
        "          print(\"Nothing to undo\")\n",
        "    def redo(self):\n",
        "        \"\"\"Redo last undone action\"\"\"\n",
        "        if self.redo_stack:\n",
        "            action = self.redo_stack.pop()\n",
        "            self.undo_stack.append(action)\n",
        "            print(f\"Action redone: {action}\")\n",
        "        else:\n",
        "            print(\"Nothing to redo\")\n",
        "\n",
        "    def display(self):\n",
        "        \"\"\"Display contents of stacks\"\"\"\n",
        "        print(\"Undo Stack:\", self.undo_stack)\n",
        "        print(\"Redo Stack:\", self.redo_stack)\n",
        "obj=UndoRedoSystem()\n",
        "obj.push(\"Advanced\")\n",
        "obj.push(\"Data\")\n",
        "obj.push(\"Structure\")\n",
        "obj.display()\n",
        "\n",
        "obj.undo()\n",
        "obj.undo()\n",
        "obj.display()\n",
        "\n",
        "obj.redo()\n",
        "obj.display()"
      ]
    },
    {
      "cell_type": "code",
      "source": [],
      "metadata": {
        "id": "p9Un2Nwpwr_I"
      },
      "execution_count": null,
      "outputs": []
    }
  ]
}