{
  "nbformat": 4,
  "nbformat_minor": 0,
  "metadata": {
    "colab": {
      "provenance": []
    },
    "kernelspec": {
      "name": "python3",
      "display_name": "Python 3"
    },
    "language_info": {
      "name": "python"
    }
  },
  "cells": [
    {
      "cell_type": "markdown",
      "source": [
        "NAME : MANNE EVANCY\n",
        "\n",
        "DATE : 17 OCTOBER 2025    M.TECH (CSE)\n",
        "\n",
        "HTNO : 2503B05116\n",
        "\n",
        "ADSA LAB 1\n",
        "\n",
        "IMPLEMENT A SINGLY LINKED LIST TO MANAGE PATIENT DETAILS(NAME,AGE,ID). PERFORM INSERTION , DELETION OPERATIONS.\n"
      ],
      "metadata": {
        "id": "0KB-ohEinKbD"
      }
    },
    {
      "cell_type": "code",
      "source": [
        "class node:\n",
        "  def __init__(self, name, age, p_id):\n",
        "    self.name=name\n",
        "    self.age=age\n",
        "    self.p_id=p_id\n",
        "    self.next=None\n",
        "\n",
        "class PatientList:\n",
        "  def __init__(self):\n",
        "    self.head=None\n",
        "\n",
        "  def insert_pat(self, name, age, p_id):\n",
        "    new_node=node(name, age, p_id)\n",
        "    if not self.head:\n",
        "      self.head=new_node\n",
        "    else:\n",
        "      current = self.head\n",
        "      while current.next:\n",
        "        current = current.next\n",
        "      current.next=new_node\n",
        "    print(f\"Inserted Name: {name}, Age:{age}, Pateint:{p_id}\")\n",
        "\n",
        "  def delete_pat(self, p_id):\n",
        "    current=self.head\n",
        "    prev=None\n",
        "    while current:\n",
        "      if current.p_id==p_id:\n",
        "        if prev:\n",
        "          prev.next=current.next\n",
        "        else:\n",
        "          self.head=current.next\n",
        "        print(f\"Delete Patient:{p_id}\")\n",
        "        return\n",
        "      prev = current\n",
        "      current = current.next\n",
        "    print(f\"Pateint with {p_id} not found\")\n",
        "\n",
        "  def display_pat(self):\n",
        "    current=self.head\n",
        "    if not current:\n",
        "      print(\"No Patients\")\n",
        "      return\n",
        "    print(\"Patients list:\")\n",
        "    while current:\n",
        "      print(f\"Name:{current.name}, Age:{current.age}, P_ID:{current.p_id}\")\n",
        "      current=current.next\n",
        "\n",
        "plist=PatientList()\n",
        "plist.insert_pat(\"Rani\",56,1)\n",
        "plist.insert_pat(\"Raja\",60,2)\n",
        "plist.insert_pat(\"Puji\",55,3)\n",
        "plist.insert_pat(\"Kittu\",30,4)\n",
        "plist.display_pat()\n",
        "plist.delete_pat(1)\n",
        "plist.display_pat()"
      ],
      "metadata": {
        "colab": {
          "base_uri": "https://localhost:8080/"
        },
        "id": "_nW_5W3MneF6",
        "outputId": "dcb174d4-e479-497c-9226-acbc0e590063"
      },
      "execution_count": 1,
      "outputs": [
        {
          "output_type": "stream",
          "name": "stdout",
          "text": [
            "Inserted Name: Rani, Age:56, Pateint:1\n",
            "Inserted Name: Raja, Age:60, Pateint:2\n",
            "Inserted Name: Puji, Age:55, Pateint:3\n",
            "Inserted Name: Kittu, Age:30, Pateint:4\n",
            "Patients list:\n",
            "Name:Rani, Age:56, P_ID:1\n",
            "Name:Raja, Age:60, P_ID:2\n",
            "Name:Puji, Age:55, P_ID:3\n",
            "Name:Kittu, Age:30, P_ID:4\n",
            "Delete Patient:1\n",
            "Patients list:\n",
            "Name:Raja, Age:60, P_ID:2\n",
            "Name:Puji, Age:55, P_ID:3\n",
            "Name:Kittu, Age:30, P_ID:4\n"
          ]
        }
      ]
    }
  ]
}